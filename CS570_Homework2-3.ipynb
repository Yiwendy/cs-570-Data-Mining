{
  "cells": [
    {
      "cell_type": "markdown",
      "metadata": {
        "id": "XuXWJLEm2UWS"
      },
      "source": [
        "# **CS570 - Homework 2**\n"
      ]
    },
    {
      "cell_type": "markdown",
      "metadata": {
        "id": "8gzsP50bF6Gb"
      },
      "source": [
        "In this assignment we will implement the **GraphSAGE** ([Hamilton et al. (2017)](https://arxiv.org/abs/1706.02216)) layer and **GAT** ([Veličković et al. (2018)](https://arxiv.org/abs/1710.10903)) layer. Then we will run our models on the CORA dataset, which is a standard node classification dataset on a citation network benchmark.\n",
        "\n",
        "**Note**: Make sure to **sequentially run all the cells in each section** so that the intermediate variables / packages will carry over to the next cell."
      ]
    },
    {
      "cell_type": "markdown",
      "metadata": {
        "id": "MSaetj53YnT6"
      },
      "source": [
        "# Device\n",
        "We recommend using a GPU for this assignment.\n",
        "\n",
        "Please click `Runtime` and then `Change runtime type`. Then set the `hardware accelerator` to **GPU**."
      ]
    },
    {
      "cell_type": "markdown",
      "metadata": {
        "id": "67gOQITlCNQi"
      },
      "source": [
        "## Installation"
      ]
    },
    {
      "cell_type": "code",
      "execution_count": 1,
      "metadata": {
        "id": "J_m9l6OYCQZP",
        "colab": {
          "base_uri": "https://localhost:8080/"
        },
        "outputId": "07fcdb94-23ba-4c1c-e18e-b36fd6414f60"
      },
      "outputs": [
        {
          "output_type": "stream",
          "name": "stdout",
          "text": [
            "Mounted at /content/gdrive\n",
            "Looking in links: https://pytorch-geometric.com/whl/torch-1.9.0+cu111.html\n",
            "Collecting torch-scatter\n",
            "  Downloading torch_scatter-2.1.2.tar.gz (108 kB)\n",
            "\u001b[2K     \u001b[90m━━━━━━━━━━━━━━━━━━━━━━━━━━━━━━━━━━━━━━━━\u001b[0m \u001b[32m108.0/108.0 kB\u001b[0m \u001b[31m2.9 MB/s\u001b[0m eta \u001b[36m0:00:00\u001b[0m\n",
            "\u001b[?25h  Preparing metadata (setup.py) ... \u001b[?25l\u001b[?25hdone\n",
            "Building wheels for collected packages: torch-scatter\n",
            "  Building wheel for torch-scatter (setup.py) ... \u001b[?25l\u001b[?25hdone\n",
            "  Created wheel for torch-scatter: filename=torch_scatter-2.1.2-cp310-cp310-linux_x86_64.whl size=3554290 sha256=e3a5ed1436d6e9f8036c4c9f8bb03696b78b6416c18384e2107662a0e843a8bd\n",
            "  Stored in directory: /root/.cache/pip/wheels/92/f1/2b/3b46d54b134259f58c8363568569053248040859b1a145b3ce\n",
            "Successfully built torch-scatter\n",
            "Installing collected packages: torch-scatter\n",
            "Successfully installed torch-scatter-2.1.2\n",
            "Looking in links: https://pytorch-geometric.com/whl/torch-1.9.0+cu111.html\n",
            "Collecting torch-sparse\n",
            "  Downloading torch_sparse-0.6.18.tar.gz (209 kB)\n",
            "\u001b[2K     \u001b[90m━━━━━━━━━━━━━━━━━━━━━━━━━━━━━━━━━━━━━━━━\u001b[0m \u001b[32m210.0/210.0 kB\u001b[0m \u001b[31m5.5 MB/s\u001b[0m eta \u001b[36m0:00:00\u001b[0m\n",
            "\u001b[?25h  Preparing metadata (setup.py) ... \u001b[?25l\u001b[?25hdone\n",
            "Requirement already satisfied: scipy in /usr/local/lib/python3.10/dist-packages (from torch-sparse) (1.11.3)\n",
            "Requirement already satisfied: numpy<1.28.0,>=1.21.6 in /usr/local/lib/python3.10/dist-packages (from scipy->torch-sparse) (1.23.5)\n",
            "Building wheels for collected packages: torch-sparse\n",
            "  Building wheel for torch-sparse (setup.py) ... \u001b[?25l\u001b[?25hdone\n",
            "  Created wheel for torch-sparse: filename=torch_sparse-0.6.18-cp310-cp310-linux_x86_64.whl size=2655142 sha256=36c6aea69e4c74fca694838d42b424d6d0f92b27b27c7b645c2f539c2aa3fb27\n",
            "  Stored in directory: /root/.cache/pip/wheels/c9/dd/0f/a6a16f9f3b0236733d257b4b4ea91b548b984a341ed3b8f38c\n",
            "Successfully built torch-sparse\n",
            "Installing collected packages: torch-sparse\n",
            "Successfully installed torch-sparse-0.6.18\n",
            "Collecting torch-geometric\n",
            "  Downloading torch_geometric-2.4.0-py3-none-any.whl (1.0 MB)\n",
            "\u001b[2K     \u001b[90m━━━━━━━━━━━━━━━━━━━━━━━━━━━━━━━━━━━━━━━━\u001b[0m \u001b[32m1.0/1.0 MB\u001b[0m \u001b[31m15.5 MB/s\u001b[0m eta \u001b[36m0:00:00\u001b[0m\n",
            "\u001b[?25hRequirement already satisfied: tqdm in /usr/local/lib/python3.10/dist-packages (from torch-geometric) (4.66.1)\n",
            "Requirement already satisfied: numpy in /usr/local/lib/python3.10/dist-packages (from torch-geometric) (1.23.5)\n",
            "Requirement already satisfied: scipy in /usr/local/lib/python3.10/dist-packages (from torch-geometric) (1.11.3)\n",
            "Requirement already satisfied: jinja2 in /usr/local/lib/python3.10/dist-packages (from torch-geometric) (3.1.2)\n",
            "Requirement already satisfied: requests in /usr/local/lib/python3.10/dist-packages (from torch-geometric) (2.31.0)\n",
            "Requirement already satisfied: pyparsing in /usr/local/lib/python3.10/dist-packages (from torch-geometric) (3.1.1)\n",
            "Requirement already satisfied: scikit-learn in /usr/local/lib/python3.10/dist-packages (from torch-geometric) (1.2.2)\n",
            "Requirement already satisfied: psutil>=5.8.0 in /usr/local/lib/python3.10/dist-packages (from torch-geometric) (5.9.5)\n",
            "Requirement already satisfied: MarkupSafe>=2.0 in /usr/local/lib/python3.10/dist-packages (from jinja2->torch-geometric) (2.1.3)\n",
            "Requirement already satisfied: charset-normalizer<4,>=2 in /usr/local/lib/python3.10/dist-packages (from requests->torch-geometric) (3.3.2)\n",
            "Requirement already satisfied: idna<4,>=2.5 in /usr/local/lib/python3.10/dist-packages (from requests->torch-geometric) (3.4)\n",
            "Requirement already satisfied: urllib3<3,>=1.21.1 in /usr/local/lib/python3.10/dist-packages (from requests->torch-geometric) (2.0.7)\n",
            "Requirement already satisfied: certifi>=2017.4.17 in /usr/local/lib/python3.10/dist-packages (from requests->torch-geometric) (2023.7.22)\n",
            "Requirement already satisfied: joblib>=1.1.1 in /usr/local/lib/python3.10/dist-packages (from scikit-learn->torch-geometric) (1.3.2)\n",
            "Requirement already satisfied: threadpoolctl>=2.0.0 in /usr/local/lib/python3.10/dist-packages (from scikit-learn->torch-geometric) (3.2.0)\n",
            "Installing collected packages: torch-geometric\n",
            "Successfully installed torch-geometric-2.4.0\n"
          ]
        }
      ],
      "source": [
        "# Install torch geometric\n",
        "import os, sys\n",
        "from google.colab import drive\n",
        "drive.mount('/content/gdrive')\n",
        "\n",
        "nb_path = '/content/gdrive/MyDrive/Python'\n",
        "os.symlink('/content/gdrive/My Drive/Colab Notebooks', nb_path)\n",
        "sys.path.insert(0, nb_path)  # or append(nb_path)\n",
        "\n",
        "!pip install torch-scatter -f https://pytorch-geometric.com/whl/torch-1.9.0+cu111.html\n",
        "!pip install torch-sparse -f https://pytorch-geometric.com/whl/torch-1.9.0+cu111.html\n",
        "!pip install torch-geometric"
      ]
    },
    {
      "cell_type": "code",
      "execution_count": 2,
      "metadata": {
        "colab": {
          "base_uri": "https://localhost:8080/"
        },
        "id": "A4x5dQoIQ0E2",
        "outputId": "dd8457d7-1a08-4e2a-95f8-c84271c94540"
      },
      "outputs": [
        {
          "output_type": "stream",
          "name": "stdout",
          "text": [
            "Drive already mounted at /content/gdrive; to attempt to forcibly remount, call drive.mount(\"/content/gdrive\", force_remount=True).\n"
          ]
        }
      ],
      "source": [
        "import sys\n",
        "from google.colab import drive\n",
        "drive.mount('/content/gdrive')\n",
        "sys.path.insert(0,\"/content/gdrive/MyDrive/Python\")"
      ]
    },
    {
      "cell_type": "code",
      "execution_count": 3,
      "metadata": {
        "id": "PRfgbfTjCRD_",
        "colab": {
          "base_uri": "https://localhost:8080/",
          "height": 37
        },
        "outputId": "c89479e3-2a57-42b2-86fe-247b5d982181"
      },
      "outputs": [
        {
          "output_type": "execute_result",
          "data": {
            "text/plain": [
              "'2.4.0'"
            ],
            "application/vnd.google.colaboratory.intrinsic+json": {
              "type": "string"
            }
          },
          "metadata": {},
          "execution_count": 3
        }
      ],
      "source": [
        "import torch_geometric\n",
        "torch_geometric.__version__"
      ]
    },
    {
      "cell_type": "markdown",
      "metadata": {
        "id": "ZoXlf4MtYrbz"
      },
      "source": [
        "# 1) GNN Layers"
      ]
    },
    {
      "cell_type": "markdown",
      "metadata": {
        "id": "TQy2RBfgYut4"
      },
      "source": [
        "## Implementing Layer Modules\n",
        "For this assignment, we provide a build upon a general Graph Neural Network Stack, into which we will be able to plugin our own module implementations: GraphSAGE and GAT.\n",
        "\n",
        "We will then use our layer implemenations to complete node classification on the CORA dataset, a standard citation network benchmark. In this dataset, nodes correspond to documents and edges correspond to undirected citations. Each node or document in the graph is assigned a class label and features based on the documents binarized bag-of-words representation. Specifically, the Cora graph has 2708 nodes, 5429 edges, 7 prediction classes, and 1433 features per node."
      ]
    },
    {
      "cell_type": "markdown",
      "metadata": {
        "id": "H4ne6Gw-CT5G"
      },
      "source": [
        "## GNN Stack Module\n",
        "\n",
        "Below is the implementation of a general GNN stack, where we can plugin any GNN layer, such as **GraphSage**, **GAT**, etc. This module is provided for you. Your implementations of the **GraphSage** and **GAT** layers will function as components in the GNNStack Module."
      ]
    },
    {
      "cell_type": "code",
      "execution_count": 4,
      "metadata": {
        "id": "Ys8vZAFPCWWe"
      },
      "outputs": [],
      "source": [
        "import torch\n",
        "import torch_scatter\n",
        "import torch.nn as nn\n",
        "import torch.nn.functional as F\n",
        "\n",
        "import torch_geometric.nn as pyg_nn\n",
        "import torch_geometric.utils as pyg_utils\n",
        "\n",
        "from torch import Tensor\n",
        "from typing import Union, Tuple, Optional\n",
        "from torch_geometric.typing import (OptPairTensor, Adj, Size, NoneType,\n",
        "                                    OptTensor)\n",
        "\n",
        "from torch.nn import Parameter, Linear\n",
        "from torch_sparse import SparseTensor, set_diag\n",
        "from torch_geometric.nn.conv import MessagePassing\n",
        "from torch_geometric.utils import remove_self_loops, add_self_loops, softmax\n",
        "\n",
        "class GNNStack(torch.nn.Module):\n",
        "    def __init__(self, input_dim, hidden_dim, output_dim, args, emb=False):\n",
        "        super(GNNStack, self).__init__()\n",
        "        conv_model = self.build_conv_model(args.model_type)\n",
        "        self.convs = nn.ModuleList()\n",
        "        self.convs.append(conv_model(input_dim, hidden_dim))\n",
        "        assert (args.num_layers >= 1), 'Number of layers is not >=1'\n",
        "        for l in range(args.num_layers-1):\n",
        "            self.convs.append(conv_model(args.heads * hidden_dim, hidden_dim))\n",
        "\n",
        "        # post-message-passing\n",
        "        self.post_mp = nn.Sequential(\n",
        "            nn.Linear(args.heads * hidden_dim, hidden_dim), nn.Dropout(args.dropout),\n",
        "            nn.Linear(hidden_dim, output_dim))\n",
        "\n",
        "        self.dropout = args.dropout\n",
        "        self.num_layers = args.num_layers\n",
        "\n",
        "        self.emb = emb\n",
        "\n",
        "    def build_conv_model(self, model_type):\n",
        "        if model_type == 'GraphSage':\n",
        "            return GraphSage\n",
        "        elif model_type == 'GAT':\n",
        "            # When applying GAT with num heads > 1, you need to modify the\n",
        "            # input and output dimension of the conv layers (self.convs),\n",
        "            # to ensure that the input dim of the next layer is num heads\n",
        "            # multiplied by the output dim of the previous layer.\n",
        "            # HINT: In case you want to play with multiheads, you need to change the for-loop that builds up self.convs to be\n",
        "            # self.convs.append(conv_model(hidden_dim * num_heads, hidden_dim)),\n",
        "            # and also the first nn.Linear(hidden_dim * num_heads, hidden_dim) in post-message-passing.\n",
        "            return GAT\n",
        "\n",
        "    def forward(self, data):\n",
        "        x, edge_index, batch = data.x, data.edge_index, data.batch\n",
        "\n",
        "        for i in range(self.num_layers):\n",
        "            x = self.convs[i](x, edge_index)\n",
        "            x = F.relu(x)\n",
        "            x = F.dropout(x, p=self.dropout,training=self.training)\n",
        "\n",
        "        x = self.post_mp(x)\n",
        "\n",
        "        if self.emb == True:\n",
        "            return x\n",
        "\n",
        "        return F.log_softmax(x, dim=1)\n",
        "\n",
        "    def loss(self, pred, label):\n",
        "        return F.nll_loss(pred, label)"
      ]
    },
    {
      "cell_type": "markdown",
      "metadata": {
        "id": "5nW_XpEwASNZ"
      },
      "source": [
        "## Creating Our Own Message Passing Layer\n",
        "\n",
        "Now let's start implementing our own message passing layers! Working through this part will help us become acutely familiar with the behind the scenes work of implementing Pytorch Message Passing Layers, allowing us to build our own GNN models. To do so, we will work with and implement 3 critcal functions needed to define a PyG Message Passing Layer: `forward`, `message`, and `aggregate`.\n",
        "\n",
        "Before diving head first into the coding details, let us quickly review the key components of the message passing process. To do so, we will focus on a single round of messsage passing with respect to a single central node $x$. Before message passing, $x$ is associated with a feature vector $x^{l-1}$, and the goal of message passing is to update this feature vector as $x^l$. To do so, we implement the following steps: 1) each neighboring node $v$ passes its current message $v^{l-1}$ across the edge $(x, v)$ - 2) for the node $x$, we aggregate all of the messages of the neighboring nodes (for example through a sum or mean) - and 3) we transform the aggregated information by for example applying linear and non-linear transformations. Altogether, the message passing process is applied such that every node $u$ in our graph updates its embedding by acting as the central node $x$ in step 1-3 described above.\n",
        "\n",
        "Now, we extending this process to that of a single message passing layer, the job of a message passing layer is to update the current feature representation or embedding of each node in a graph by propagating and transforming information within the graph. Overall, the general paradigm of a message passing layers is: 1) pre-processing -> 2) **message passing** / propagation -> 3) post-processing.\n",
        "\n",
        "The `forward` fuction that we will implement for our message passing layer captures this execution logic. Namely, the `forward` function handles the pre and post-processing of node features / embeddings, as well as initiates message passing by calling the `propagate` function.\n",
        "\n",
        "\n",
        "The `propagate` function encapsulates the message passing process! It does so by calling three important functions: 1) `message`, 2) `aggregate`, and 3) `update`. Our implementation will vary slightly from this, as we will not explicitly implement `update`, but instead place the logic for updating node embeddings after message passing and within the `forward` function. To be more specific, after information is propagated (message passing), we can further transform the node embeddings outputed by `propagate`. Therefore, the output of `forward` is exactly the node embeddings after one GNN layer.\n",
        "\n",
        "Lastly, before starting to implement our own layer, let us dig a bit deeper into each of the functions described above:\n",
        "\n",
        "1.\n",
        "\n",
        "```\n",
        "def propagate(edge_index, x=(x_i, x_j), extra=(extra_i, extra_j), size=size):\n",
        "```\n",
        "Calling `propagate` initiates the message passing process. Looking at the function parameters, we highlight a couple of key parameters.\n",
        "\n",
        "  - `edge_index` is passed to the forward function and captures the edge structure of the graph.\n",
        "  - `x=(x_i, x_j)` represents the node features that will be used in message passing. In order to explain why we pass the tuple `(x_i, x_j)`, we first look at how our edges are represented. For every edge $(i, j) \\in \\mathcal{E}$, we can differentiate $i$ as the source or central node ($x_{central}$) and j as the neighboring node ($x_{neighbor}$).\n",
        "  \n",
        "    Taking the example of message passing above, for a central node $u$ we will aggregate and transform all of the messages associated with the nodes $v$ s.t. $(u, v) \\in \\mathcal{E}$ (i.e. $v \\in \\mathcal{N}_{u}$). Thus we see, the subscripts `_i` and `_j` allow us to specifcally differenciate features associated with central nodes (i.e. nodes  recieving message information) and neighboring nodes (i.e. nodes passing messages).\n",
        "\n",
        "    This is definitely a somewhat confusing concept; however, one key thing to remember / wrap your head around is that depending on the perspective, a node $x$ acts as a central node or a neighboring node. In fact, in undirected graphs we store both edge directions (i.e. $(i, j)$ and $(j, i)$). From the central node perspective, `x_i`, x is collecting neighboring information to update its embedding. From a neighboring node perspective, `x_j`, x is passing its message information along the edge connecting it to a different central node.\n",
        "\n",
        "  - `extra=(extra_i, extra_j)` represents additional information that we can associate with each node beyond its current feature embedding. In fact, we can include as many additional parameters of the form `param=(param_i, param_j)` as we would like. Again, we highlight that indexing with `_i` and `_j` allows us to differentiate central and neighboring nodes.\n",
        "\n",
        "  The output of the `propagate` function is a matrix of node embeddings after the message passing process and has shape $[N, d]$.\n",
        "\n",
        "2.\n",
        "```\n",
        "def message(x_j, ...):\n",
        "```\n",
        "The `message` function is called by propagate and constructs the messages from\n",
        "neighboring nodes $j$ to central nodes $i$ for each edge $(i, j)$ in *edge_index*. This function can take any argument that was initially passed to `propagate`. Furthermore, we can again differentiate central nodes and neighboring nodes by appending `_i` or `_j` to the variable name, .e.g. `x_i` and `x_j`. Looking more specifically at the variables, we have:\n",
        "\n",
        "  - `x_j` represents a matrix of feature embeddings for all neighboring nodes passing their messages along their respective edge (i.e. all nodes $j$ for edges $(i, j) \\in \\mathcal{E}$). Thus, its shape is $[|\\mathcal{E}|, d]$!\n",
        "  - In implementing GAT we will see how to access additional variables passed to propagate\n",
        "\n",
        "  Critically, we see that the output of the `message` function is a matrix of neighboring node embeddings ready to be aggregated, having shape $[|\\mathcal{E}|, d]$.\n",
        "\n",
        "3.\n",
        "```\n",
        "def aggregate(self, inputs, index, dim_size = None):\n",
        "```\n",
        "Lastly, the `aggregate` function is used to aggregate the messages from neighboring nodes. Looking at the parameters we highlight:\n",
        "\n",
        "  - `inputs` represents a matrix of the messages passed from neighboring nodes (i.e. the output of the `message` function).\n",
        "  - `index` has the same shape as `inputs` and tells us the central node that corresponding to each of the rows / messages $j$ in the `inputs` matrix. Thus, `index` tells us which rows / messages to aggregate for each central node.\n",
        "\n",
        "  The output of `aggregate` is of shape $[N, d]$.\n",
        "\n",
        "\n",
        "For additional resources refer to the PyG documentation for implementing custom message passing layers: https://pytorch-geometric.readthedocs.io/en/latest/notes/create_gnn.html"
      ]
    },
    {
      "cell_type": "markdown",
      "metadata": {
        "id": "syDtxjxoCZgq"
      },
      "source": [
        "## GraphSage Implementation\n",
        "\n",
        "For our first GNN layer, we will implement the well known GraphSage ([Hamilton et al. (2017)](https://arxiv.org/abs/1706.02216)) layer!\n",
        "\n",
        "For a given *central* node $v$ with current embedding $h_v^{l-1}$, the message passing update rule to tranform $h_v^{l-1} \\rightarrow h_v^l$ is as follows:\n",
        "\n",
        "\\begin{equation}\n",
        "h_v^{(l)} = W_l\\cdot h_v^{(l-1)} + W_r \\cdot AGG(\\{h_u^{(l-1)}, \\forall u \\in N(v) \\})\n",
        "\\end{equation}\n",
        "\n",
        "where $W_1$ and $W_2$ are learanble weight matrices and the nodes $u$ are *neighboring* nodes. Additionally, we use mean aggregation for simplicity:\n",
        "\n",
        "\\begin{equation}\n",
        "AGG(\\{h_u^{(l-1)}, \\forall u \\in N(v) \\}) = \\frac{1}{|N(v)|} \\sum_{u\\in N(v)} h_u^{(l-1)}\n",
        "\\end{equation}\n",
        "\n",
        "One thing to note is that we're adding a **skip connection** to our GraphSage implementation through the term $W_l\\cdot h_v^{(l-1)}$.\n",
        "\n",
        "Before implementing this update rule, we encourage you to think about how different parts of the formulas above correspond with the functions outlined earlier: 1) `forward`, 2) `message`, and 3) `aggregate`. As a hint, we are given what the aggregation function is (i.e. mean aggregation)! Now the question remains, what are the messages passed by each neighbor nodes and when do we call the `propagate` function?\n",
        "\n",
        "Note: in this case the message function or messages are actually quite simple. Additionally, remember that the `propagate` function encapsulates the operations of / the outputs of the combined `message` and `aggregate` functions.\n",
        "\n",
        "\n",
        "Lastly, $\\ell$-2 normalization of the node embeddings is applied after each iteration.\n",
        "\n",
        "\n",
        "<font color='red'>For the following questions, please DON'T refer to any existing implementations online.</font>"
      ]
    },
    {
      "cell_type": "code",
      "execution_count": 5,
      "metadata": {
        "id": "RwG4HqCFCaOD"
      },
      "outputs": [],
      "source": [
        "class GraphSage(MessagePassing):\n",
        "\n",
        "    def __init__(self, in_channels, out_channels, normalize = True,\n",
        "                 bias = False, **kwargs):\n",
        "        super(GraphSage, self).__init__(**kwargs)\n",
        "\n",
        "        ############################################################################\n",
        "        # TODO: Your code here!\n",
        "        # Define the layers needed for the message and update functions below.\n",
        "        ############################################################################\n",
        "\n",
        "        self.in_channels = in_channels\n",
        "        self.out_channels = out_channels\n",
        "        self.lin_l = Linear(self.in_channels, self.out_channels)\n",
        "        self.lin_r = Linear(self.in_channels, self.out_channels)\n",
        "        self.norm = normalize\n",
        "        self.reset_parameters()\n",
        "\n",
        "    def reset_parameters(self):\n",
        "        self.lin_l.reset_parameters()\n",
        "        self.lin_r.reset_parameters()\n",
        "\n",
        "    def forward(self, x, edge_index, size = None):\n",
        "        ############################################################################\n",
        "        # TODO: Your code here!\n",
        "        # Implement message passing, as well as any post-processing (our update rule).\n",
        "        # 1. Call the propagate function to conduct the message passing.\n",
        "        #    1.1 See the description of propagate above or the following link for more information:\n",
        "        #        https://pytorch-geometric.readthedocs.io/en/latest/notes/create_gnn.html\n",
        "        #    1.2 We will only use the representation for neighbor nodes (x_j), so by default\n",
        "        #        we pass the same representation for central and neighbor nodes as x=(x, x).\n",
        "        # 2. Update our node embedding with skip connection from the previous layer.\n",
        "        # 3. If normalize is set, do L-2 normalization (defined in\n",
        "        #    torch.nn.functional)\n",
        "        #\n",
        "        ############################################################################\n",
        "        edge_index, _ = add_self_loops(edge_index, num_nodes=x.size(0))\n",
        "        neighbor = self.propagate(edge_index, x=(x,x), size = size)\n",
        "        out = self.lin_l(x)+self.lin_r(neighbor)\n",
        "        if self.norm:\n",
        "            out = F.normalize(out)\n",
        "\n",
        "        return out\n",
        "\n",
        "    def message(self, x_j):\n",
        "        ############################################################################\n",
        "        # TODO: Your code here!\n",
        "        # Implement your message function here.\n",
        "        # Hint: Look at the formulation of the mean aggregation function, focusing on\n",
        "        # what message each neighboring node passes.\n",
        "        ############################################################################\n",
        "        return x_j\n",
        "\n",
        "    def aggregate(self, inputs, index, dim_size = None):\n",
        "\n",
        "        ############################################################################\n",
        "        # TODO: Your code here!\n",
        "        # Implement your aggregate function here.\n",
        "        # See here as how to use torch_scatter.scatter:\n",
        "        # https://pytorch-scatter.readthedocs.io/en/latest/functions/scatter.html#torch_scatter.scatter\n",
        "        ############################################################################\n",
        "        out = torch_scatter.scatter(inputs, index, dim=self.node_dim, dim_size=dim_size, reduce='mean')\n",
        "        return out\n"
      ]
    },
    {
      "cell_type": "markdown",
      "metadata": {
        "id": "qjcfF3RACdLD"
      },
      "source": [
        "## GAT Implementation\n",
        "\n",
        "Attention mechanisms have become the state-of-the-art in many sequence-based tasks such as machine translation and learning sentence representations. One of the major benefits of attention-based mechanisms is their ability to focus on the most relevant parts of the input to make decisions. In this problem, we will see how attention mechanisms can be used to perform node classification over graph-structured data through the usage of Graph Attention Networks (GATs) ([Veličković et al. (2018)](https://arxiv.org/abs/1710.10903)).\n",
        "\n",
        "The building block of the Graph Attention Network is the graph attention layer, which is a variant of the aggregation function. Let $N$ be the number of nodes and $F$ be the dimension of the feature vector for each node. The input to each graph attentional layer is a set of node features: $\\mathbf{h} = \\{\\overrightarrow{h_1}, \\overrightarrow{h_2}, \\dots, \\overrightarrow{h_N}$\\}, $\\overrightarrow{h_i} \\in R^F$. The output of each graph attentional layer is a new set of node features, which may have a new dimension $F'$: $\\mathbf{h'} = \\{\\overrightarrow{h_1'}, \\overrightarrow{h_2'}, \\dots, \\overrightarrow{h_N'}\\}$, with $\\overrightarrow{h_i'} \\in \\mathbb{R}^{F'}$.\n",
        "\n",
        "We will now describe how this transformation is performed for each graph attention layer. First, a shared linear transformation parametrized by the weight matrix $\\mathbf{W} \\in \\mathbb{R}^{F' \\times F}$ is applied to every node.\n",
        "\n",
        "Next, we perform self-attention on the nodes. We use a shared attention function $a$:\n",
        "\\begin{equation}\n",
        "a : \\mathbb{R}^{F'} \\times \\mathbb{R}^{F'} \\rightarrow \\mathbb{R}.\n",
        "\\end{equation}\n",
        "\n",
        "that computes the attention coefficients capturing the importance of node $j$'s features to node $i$:\n",
        "\\begin{equation}\n",
        "e_{ij} = a(\\mathbf{W_l}\\overrightarrow{h_i}, \\mathbf{W_r} \\overrightarrow{h_j})\n",
        "\\end{equation}\n",
        "\n",
        "The most general formulation of self-attention allows every node to attend to all other nodes which drops all structural information. However, to utilize graph structure in the attention mechanisms, we use **masked attention**. In masked attention, we only compute attention coefficients $e_{ij}$ for nodes $j \\in \\mathcal{N}_i$ where $\\mathcal{N}_i$ is some neighborhood of node $i$ in the graph.\n",
        "\n",
        "To easily compare coefficients across different nodes, we normalize the coefficients across $j$ using a softmax function:\n",
        "\\begin{equation}\n",
        "\\alpha_{ij} = \\text{softmax}_j(e_{ij}) = \\frac{\\exp(e_{ij})}{\\sum_{k \\in \\mathcal{N}_i} \\exp(e_{ik})}\n",
        "\\end{equation}\n",
        "\n",
        "For this problem, our attention mechanism $a$ will be a single-layer feedforward neural network parametrized by a weight vectors $\\overrightarrow{a_l} \\in \\mathbb{R}^{F'}$ and $\\overrightarrow{a_r} \\in \\mathbb{R}^{F'}$, followed by a LeakyReLU nonlinearity (with negative input slope 0.2). Let $\\cdot^T$ represent transposition and $||$ represent concatenation. The coefficients computed by our attention mechanism may be expressed as:\n",
        "\n",
        "\\begin{equation}\n",
        "\\alpha_{ij} = \\frac{\\exp\\Big(\\text{LeakyReLU}\\Big(\\overrightarrow{a_l}^T \\mathbf{W_l} \\overrightarrow{h_i} + \\overrightarrow{a_r}^T\\mathbf{W_r}\\overrightarrow{h_j}\\Big)\\Big)}{\\sum_{k\\in \\mathcal{N}_i} \\exp\\Big(\\text{LeakyReLU}\\Big(\\overrightarrow{a_l}^T \\mathbf{W_l} \\overrightarrow{h_i} + \\overrightarrow{a_r}^T\\mathbf{W_r}\\overrightarrow{h_k}\\Big)\\Big)}\n",
        "\\end{equation}\n",
        "\n",
        "For the following questions, we denote `alpha_l` = $\\alpha_l = [...,\\overrightarrow{a_l}^T \\mathbf{W_l} \\overrightarrow{h_i},...] \\in \\mathcal{R}^n$ and `alpha_r` = $\\alpha_r = [..., \\overrightarrow{a_r}^T \\mathbf{W_r} \\overrightarrow{h_j}, ...] \\in \\mathcal{R}^n$.\n",
        "\n",
        "\n",
        "At every layer of GAT, after the attention coefficients are computed for that layer, the aggregation function can be computed by a weighted sum of neighborhood messages, where weights are specified by $\\alpha_{ij}$.\n",
        "\n",
        "Now, we use the normalized attention coefficients to compute a linear combination of the features corresponding to them. These aggregated features will serve as the final output features for every node.\n",
        "\n",
        "\\begin{equation}\n",
        "h_i' = \\sum_{j \\in \\mathcal{N}_i} \\alpha_{ij} \\mathbf{W_r} \\overrightarrow{h_j}.\n",
        "\\end{equation}\n",
        "\n",
        "At this point, we have covered a lot of information! Before reading further about multi-head attention, we encourage you to go again through the excersize of thinking about what components of the attention mechanism correspond with the different functions: 1) `forward`, 2) `message`, and 3 `aggregate`.\n",
        "\n",
        "- Hint 1: Our aggregation is very similar to that of GraphSage except now we are using sum aggregation.\n",
        "- Hint 2: The terms we aggregate over again represent the individual message that each neighbor node j sends. Thus, we see that $\\alpha_{ij}$ is part of the message each node sends and is thus computed during the message step. This makes sense since an attention weight is associated with each edge in the graph.\n",
        "- Hint 3: Look at the terms in the definition of $\\alpha_{ij}$. What values do we want to pre-process and pass as parameters to the `propagate` function. The parameters of `message(..., x_j, alpha_j, alpha_i, ...)` should give a good hint.  \n",
        "\n",
        "### Multi-Head Attention\n",
        "To stabilize the learning process of self-attention, we use multi-head attention. To do this we use $K$ independent attention mechanisms, or ``heads'' compute output features as in the above equations. Then, we concatenate these output feature representations:\n",
        "\n",
        "\\begin{equation}\n",
        "    \\overrightarrow{h_i}' = ||_{k=1}^K \\Big(\\sum_{j \\in \\mathcal{N}_i} \\alpha_{ij}^{(k)} \\mathbf{W_r}^{(k)} \\overrightarrow{h_j}\\Big)\n",
        "\\end{equation}\n",
        "\n",
        "where $||$ is concentation, $\\alpha_{ij}^{(k)}$ are the normalized attention coefficients computed by the $k$-th attention mechanism $(a^k)$, and $\\mathbf{W}^{(k)}$ is the corresponding input linear transformation's weight matrix. Note that for this setting, $\\mathbf{h'} \\in \\mathbb{R}^{KF'}$."
      ]
    },
    {
      "cell_type": "code",
      "execution_count": 6,
      "metadata": {
        "id": "w4j45gTpCeXO"
      },
      "outputs": [],
      "source": [
        "class GAT(MessagePassing):\n",
        "\n",
        "    def __init__(self, in_channels, out_channels, heads = 2,\n",
        "                 negative_slope = 0.2, dropout = 0., **kwargs):\n",
        "        super(GAT, self).__init__(node_dim=0, **kwargs)\n",
        "        self.heads = heads\n",
        "        self.negative_slope = negative_slope\n",
        "        self.dropout = dropout\n",
        "        self.in_channels = in_channels\n",
        "        self.out_channels = out_channels\n",
        "\n",
        "        self.lin_l = Linear(self.in_channels, self.heads*self.out_channels)\n",
        "        self.lin_r = Linear(self.in_channels, self.heads*self.out_channels)\n",
        "        self.att_l = Parameter(torch.Tensor(1, self.heads, self.out_channels))\n",
        "        self.att_r = Parameter(torch.Tensor(1, self.heads, self.out_channels))\n",
        "        self.reset_parameters()\n",
        "\n",
        "        ############################################################################\n",
        "        # TODO: Your code here!\n",
        "        # Define the layers needed for the message functions below.\n",
        "        #\n",
        "        # Pay attention to dimensions of the linear layers, since we're using\n",
        "        # multi-head attention.\n",
        "        ############################################################################\n",
        "\n",
        "\n",
        "    def reset_parameters(self):\n",
        "        nn.init.xavier_uniform_(self.lin_l.weight)\n",
        "        nn.init.xavier_uniform_(self.lin_r.weight)\n",
        "        nn.init.xavier_uniform_(self.att_l)\n",
        "        nn.init.xavier_uniform_(self.att_r)\n",
        "\n",
        "    def forward(self, x, edge_index, size = None):\n",
        "\n",
        "        ############################################################################\n",
        "        # TODO: Your code here!\n",
        "        # Implement message passing, as well as any pre- and post-processing (our update rule).\n",
        "        # 1. First apply linear transformation to node embeddings, and split that\n",
        "        #    into multiple heads. We use the same representations for source and\n",
        "        #    target nodes, but apply different linear weights (W_l and W_r)\n",
        "        # 2. Calculate alpha vectors for central nodes (alpha_l) and neighbor nodes (alpha_r).\n",
        "        # 3. Call propagate function to conduct the message passing.\n",
        "        #    3.1 Remember to pass alpha = (alpha_l, alpha_r) as a parameter.\n",
        "        #    3.2 See there for more information: https://pytorch-geometric.readthedocs.io/en/latest/notes/create_gnn.html\n",
        "        # 4. Transform the output back to the shape of [N, H * C].\n",
        "        ############################################################################\n",
        "\n",
        "        edge_index, _ = add_self_loops(edge_index, num_nodes=x.size(0))\n",
        "        own = self.lin_l(x).view(-1, self.heads, self.out_channels)  # [N, out*2]->[N,2,out]\n",
        "        neighbor = self.lin_r(x).view(-1, self.heads, self.out_channels)\n",
        "        alpha_l = (own*self.att_l).sum(axis=-1)  # [N,2,out]*[1,2,out]->[N,2,out]->[N,2]\n",
        "        alpha_r = (neighbor*self.att_r).sum(axis=-1)\n",
        "        out = self.propagate(edge_index, x=(own, neighbor), alpha = (alpha_l, alpha_r), size=size) #[N,2,out]\n",
        "        out = out.view(-1, self.heads*self.out_channels)\n",
        "        return out\n",
        "\n",
        "\n",
        "    def message(self, x_j, alpha_j, alpha_i, index, ptr, size_i):\n",
        "\n",
        "        ############################################################################\n",
        "        # TODO: Your code here!\n",
        "        # Implement your message function. Putting the attention in message\n",
        "        # instead of in update is a little tricky.\n",
        "        # 1. Calculate the final attention weights using alpha_i and alpha_j,\n",
        "        #    and apply leaky Relu.\n",
        "        # 2. Calculate softmax over the neighbor nodes for all the nodes. Use\n",
        "        #    torch_geometric.utils.softmax instead of the one in Pytorch.\n",
        "        # 3. Apply dropout to attention weights (alpha).\n",
        "        # 4. Multiply embeddings and attention weights. As a sanity check, the output\n",
        "        #    should be of shape [E, H, C].\n",
        "        # 5. ptr (LongTensor, optional): If given, computes the softmax based on\n",
        "        #    sorted inputs in CSR representation. You can simply pass it to softmax.\n",
        "        ############################################################################\n",
        "\n",
        "        output = F.leaky_relu(alpha_j+alpha_i,self.negative_slope) # [N, 2]\n",
        "        output = softmax(output, index, ptr, size_i)\n",
        "        output = F.dropout(output, self.dropout)\n",
        "        output = x_j * output.view(-1,self.heads,1)\n",
        "        return output\n",
        "\n",
        "\n",
        "    def aggregate(self, inputs, index, dim_size = None):\n",
        "\n",
        "        ############################################################################\n",
        "        # TODO: Your code here!\n",
        "        # Implement your aggregate function here.\n",
        "        # See here as how to use torch_scatter.scatter: https://pytorch-scatter.readthedocs.io/en/latest/_modules/torch_scatter/scatter.html\n",
        "        # Pay attention to \"reduce\" parameter is different from that in GraphSage.\n",
        "        ############################################################################\n",
        "\n",
        "        out = torch_scatter.scatter(inputs, index, dim=self.node_dim, dim_size=dim_size, reduce='sum')\n",
        "        return out"
      ]
    },
    {
      "cell_type": "markdown",
      "metadata": {
        "id": "qhwCIshroQ_L"
      },
      "source": [
        "## Building Optimizers\n",
        "\n",
        "Please build an Adam optimizer and return it in this function. But feel free to try some other types of optimizers on your own."
      ]
    },
    {
      "cell_type": "code",
      "execution_count": 7,
      "metadata": {
        "id": "X0JPEV2poQ_M"
      },
      "outputs": [],
      "source": [
        "import torch.optim as optim\n",
        "\n",
        "def build_optimizer(args, params):\n",
        "    return optim.Adam(params, lr=args.lr, weight_decay=args.weight_decay)"
      ]
    },
    {
      "cell_type": "markdown",
      "metadata": {
        "id": "hBYdWFwYCkwY"
      },
      "source": [
        "## Training and Testing\n",
        "\n",
        "Test your model every 10 epochs and save the accuracy to the file *CORA-GAT.txt* or *CORA-GraphSage.txt* recordingly."
      ]
    },
    {
      "cell_type": "code",
      "execution_count": 8,
      "metadata": {
        "id": "_tZMWRc8CmGg"
      },
      "outputs": [],
      "source": [
        "import time\n",
        "\n",
        "import networkx as nx\n",
        "import numpy as np\n",
        "import torch\n",
        "import torch.optim as optim\n",
        "from tqdm import trange\n",
        "import pandas as pd\n",
        "import copy\n",
        "\n",
        "from torch_geometric.datasets import TUDataset\n",
        "from torch_geometric.datasets import Planetoid\n",
        "from torch_geometric.data import DataLoader\n",
        "\n",
        "import torch_geometric.nn as pyg_nn\n",
        "\n",
        "import matplotlib.pyplot as plt\n",
        "\n",
        "\n",
        "def train(dataset, args):\n",
        "\n",
        "    print(\"Node task. test set size:\", np.sum(dataset[0]['test_mask'].numpy()))\n",
        "    print()\n",
        "    test_loader = loader = DataLoader(dataset, batch_size=args.batch_size, shuffle=False)\n",
        "\n",
        "    # build model\n",
        "    model = GNNStack(dataset.num_node_features, args.hidden_dim, dataset.num_classes, args)\n",
        "    ############################################################################\n",
        "    # TODO: Your code here!\n",
        "    # Train your model and return training loss and test accuracy (and/or others).\n",
        "    # Correct implementation would lead to accuracy at least 70%.\n",
        "    ############################################################################\n",
        "    optimizer = build_optimizer(args, model.parameters())\n",
        "    train_losses = []\n",
        "    test_accuracies = []\n",
        "    best_acc = 0\n",
        "    for epoch in range(args.epochs):\n",
        "        model.train()\n",
        "        for data in loader:\n",
        "            output = model(data)\n",
        "            loss = model.loss(output[data.train_mask], data.y[data.train_mask])\n",
        "            optimizer.zero_grad()\n",
        "            loss.backward()\n",
        "            optimizer.step()\n",
        "        if (epoch + 1) % 10 == 0:\n",
        "            test_acc = test(loader, model)\n",
        "            train_losses.append(loss.item())\n",
        "            test_accuracies.append(test_acc)\n",
        "            best_acc = max(best_acc,test_acc)\n",
        "            print(f\"Epoch [{epoch + 1}/{args.epochs}], Loss: {loss.item():.4f}, test Accuracy: {test_acc}\")\n",
        "\n",
        "    return train_losses, test_accuracies, best_acc\n",
        "\n",
        "def test(loader, test_model, is_validation=False, save_model_preds=False, model_type=None):\n",
        "    test_model.eval()\n",
        "    correct = 0\n",
        "    total = 0\n",
        "\n",
        "    # Note that Cora is only one graph!\n",
        "    for data in loader:\n",
        "    ############################################################################\n",
        "    # TODO: Your code here!\n",
        "    # Evaluate your model on the test set and return the accuracy.\n",
        "    ############################################################################\n",
        "        with torch.no_grad():\n",
        "            out = test_model(data)\n",
        "            pred = out.argmax(dim=1)\n",
        "            label = data.y\n",
        "            mask = data.test_mask\n",
        "\n",
        "            correct += (pred[mask] == label[mask]).sum().item()\n",
        "            total += mask.sum().item()\n",
        "\n",
        "    return correct / total\n",
        "\n",
        "class objectview(object):\n",
        "    def __init__(self, d):\n",
        "        self.__dict__ = d\n"
      ]
    },
    {
      "cell_type": "code",
      "execution_count": 24,
      "metadata": {
        "id": "qe9B45l9Cpz2",
        "colab": {
          "base_uri": "https://localhost:8080/"
        },
        "outputId": "2d9f2381-4346-43eb-fb5e-e2726c598728"
      },
      "outputs": [
        {
          "output_type": "stream",
          "name": "stdout",
          "text": [
            "Node task. test set size: 1000\n",
            "\n",
            "Epoch [10/500], Loss: 1.1097, test Accuracy: 0.639\n",
            "Epoch [20/500], Loss: 0.3068, test Accuracy: 0.799\n",
            "Epoch [30/500], Loss: 0.1298, test Accuracy: 0.801\n",
            "Epoch [40/500], Loss: 0.1090, test Accuracy: 0.793\n",
            "Epoch [50/500], Loss: 0.0830, test Accuracy: 0.754\n",
            "Epoch [60/500], Loss: 0.0937, test Accuracy: 0.779\n",
            "Epoch [70/500], Loss: 0.0732, test Accuracy: 0.774\n",
            "Epoch [80/500], Loss: 0.0672, test Accuracy: 0.796\n",
            "Epoch [90/500], Loss: 0.0508, test Accuracy: 0.781\n",
            "Epoch [100/500], Loss: 0.0563, test Accuracy: 0.798\n",
            "Epoch [110/500], Loss: 0.0744, test Accuracy: 0.793\n",
            "Epoch [120/500], Loss: 0.0463, test Accuracy: 0.784\n",
            "Epoch [130/500], Loss: 0.0529, test Accuracy: 0.778\n",
            "Epoch [140/500], Loss: 0.0447, test Accuracy: 0.799\n",
            "Epoch [150/500], Loss: 0.0421, test Accuracy: 0.787\n",
            "Epoch [160/500], Loss: 0.0538, test Accuracy: 0.77\n",
            "Epoch [170/500], Loss: 0.0497, test Accuracy: 0.781\n",
            "Epoch [180/500], Loss: 0.0323, test Accuracy: 0.771\n",
            "Epoch [190/500], Loss: 0.0421, test Accuracy: 0.759\n",
            "Epoch [200/500], Loss: 0.1301, test Accuracy: 0.732\n",
            "Epoch [210/500], Loss: 0.0387, test Accuracy: 0.775\n",
            "Epoch [220/500], Loss: 0.0689, test Accuracy: 0.77\n",
            "Epoch [230/500], Loss: 0.0513, test Accuracy: 0.766\n",
            "Epoch [240/500], Loss: 0.0480, test Accuracy: 0.778\n",
            "Epoch [250/500], Loss: 0.0709, test Accuracy: 0.775\n",
            "Epoch [260/500], Loss: 0.0400, test Accuracy: 0.798\n",
            "Epoch [270/500], Loss: 0.0289, test Accuracy: 0.77\n",
            "Epoch [280/500], Loss: 0.0511, test Accuracy: 0.762\n",
            "Epoch [290/500], Loss: 0.0669, test Accuracy: 0.751\n",
            "Epoch [300/500], Loss: 0.0378, test Accuracy: 0.769\n",
            "Epoch [310/500], Loss: 0.0650, test Accuracy: 0.78\n",
            "Epoch [320/500], Loss: 0.0442, test Accuracy: 0.784\n",
            "Epoch [330/500], Loss: 0.0520, test Accuracy: 0.79\n",
            "Epoch [340/500], Loss: 0.0929, test Accuracy: 0.761\n",
            "Epoch [350/500], Loss: 0.0522, test Accuracy: 0.764\n",
            "Epoch [360/500], Loss: 0.0407, test Accuracy: 0.767\n",
            "Epoch [370/500], Loss: 0.0614, test Accuracy: 0.761\n",
            "Epoch [380/500], Loss: 0.0509, test Accuracy: 0.76\n",
            "Epoch [390/500], Loss: 0.0479, test Accuracy: 0.773\n",
            "Epoch [400/500], Loss: 0.0496, test Accuracy: 0.769\n",
            "Epoch [410/500], Loss: 0.0460, test Accuracy: 0.753\n",
            "Epoch [420/500], Loss: 0.0639, test Accuracy: 0.753\n",
            "Epoch [430/500], Loss: 0.0407, test Accuracy: 0.772\n",
            "Epoch [440/500], Loss: 0.0313, test Accuracy: 0.767\n",
            "Epoch [450/500], Loss: 0.0371, test Accuracy: 0.777\n",
            "Epoch [460/500], Loss: 0.0446, test Accuracy: 0.77\n",
            "Epoch [470/500], Loss: 0.0465, test Accuracy: 0.775\n",
            "Epoch [480/500], Loss: 0.0526, test Accuracy: 0.781\n",
            "Epoch [490/500], Loss: 0.0403, test Accuracy: 0.789\n",
            "Epoch [500/500], Loss: 0.0965, test Accuracy: 0.765\n",
            "model: GAT, Best answer: 0.801\n",
            "Node task. test set size: 1000\n",
            "\n",
            "Epoch [10/500], Loss: 1.6882, test Accuracy: 0.641\n",
            "Epoch [20/500], Loss: 1.0552, test Accuracy: 0.765\n",
            "Epoch [30/500], Loss: 0.5217, test Accuracy: 0.773\n",
            "Epoch [40/500], Loss: 0.3749, test Accuracy: 0.757\n",
            "Epoch [50/500], Loss: 0.2582, test Accuracy: 0.729\n",
            "Epoch [60/500], Loss: 0.2470, test Accuracy: 0.764\n",
            "Epoch [70/500], Loss: 0.2558, test Accuracy: 0.768\n",
            "Epoch [80/500], Loss: 0.2525, test Accuracy: 0.785\n",
            "Epoch [90/500], Loss: 0.1916, test Accuracy: 0.776\n",
            "Epoch [100/500], Loss: 0.1863, test Accuracy: 0.73\n",
            "Epoch [110/500], Loss: 0.1802, test Accuracy: 0.774\n",
            "Epoch [120/500], Loss: 0.2622, test Accuracy: 0.778\n",
            "Epoch [130/500], Loss: 0.2060, test Accuracy: 0.786\n",
            "Epoch [140/500], Loss: 0.2027, test Accuracy: 0.779\n",
            "Epoch [150/500], Loss: 0.1518, test Accuracy: 0.771\n",
            "Epoch [160/500], Loss: 0.1602, test Accuracy: 0.749\n",
            "Epoch [170/500], Loss: 0.1673, test Accuracy: 0.723\n",
            "Epoch [180/500], Loss: 0.2029, test Accuracy: 0.783\n",
            "Epoch [190/500], Loss: 0.2104, test Accuracy: 0.777\n",
            "Epoch [200/500], Loss: 0.2210, test Accuracy: 0.768\n",
            "Epoch [210/500], Loss: 0.1775, test Accuracy: 0.768\n",
            "Epoch [220/500], Loss: 0.1460, test Accuracy: 0.757\n",
            "Epoch [230/500], Loss: 0.1924, test Accuracy: 0.758\n",
            "Epoch [240/500], Loss: 0.2141, test Accuracy: 0.767\n",
            "Epoch [250/500], Loss: 0.2587, test Accuracy: 0.745\n",
            "Epoch [260/500], Loss: 0.1941, test Accuracy: 0.775\n",
            "Epoch [270/500], Loss: 0.1858, test Accuracy: 0.77\n",
            "Epoch [280/500], Loss: 0.2061, test Accuracy: 0.757\n",
            "Epoch [290/500], Loss: 0.1692, test Accuracy: 0.766\n",
            "Epoch [300/500], Loss: 0.1478, test Accuracy: 0.773\n",
            "Epoch [310/500], Loss: 0.1493, test Accuracy: 0.734\n",
            "Epoch [320/500], Loss: 0.1375, test Accuracy: 0.743\n",
            "Epoch [330/500], Loss: 0.1204, test Accuracy: 0.77\n",
            "Epoch [340/500], Loss: 0.1755, test Accuracy: 0.758\n",
            "Epoch [350/500], Loss: 0.1386, test Accuracy: 0.788\n",
            "Epoch [360/500], Loss: 0.2621, test Accuracy: 0.787\n",
            "Epoch [370/500], Loss: 0.1215, test Accuracy: 0.773\n",
            "Epoch [380/500], Loss: 0.1481, test Accuracy: 0.77\n",
            "Epoch [390/500], Loss: 0.1373, test Accuracy: 0.789\n",
            "Epoch [400/500], Loss: 0.1222, test Accuracy: 0.783\n",
            "Epoch [410/500], Loss: 0.1473, test Accuracy: 0.779\n",
            "Epoch [420/500], Loss: 0.2370, test Accuracy: 0.775\n",
            "Epoch [430/500], Loss: 0.1682, test Accuracy: 0.789\n",
            "Epoch [440/500], Loss: 0.2065, test Accuracy: 0.759\n",
            "Epoch [450/500], Loss: 0.1793, test Accuracy: 0.758\n",
            "Epoch [460/500], Loss: 0.1553, test Accuracy: 0.74\n",
            "Epoch [470/500], Loss: 0.1596, test Accuracy: 0.747\n",
            "Epoch [480/500], Loss: 0.1512, test Accuracy: 0.764\n",
            "Epoch [490/500], Loss: 0.2777, test Accuracy: 0.778\n",
            "Epoch [500/500], Loss: 0.1891, test Accuracy: 0.783\n",
            "model: GraphSage, Best answer: 0.789\n"
          ]
        }
      ],
      "source": [
        "for args in [\n",
        "    {'model_type': 'GraphSage', 'dataset': 'cora', 'num_layers': 2, 'heads': 7, 'batch_size': 32, 'hidden_dim': 32, 'dropout': 0.5, 'epochs': 500, 'opt': 'adam', 'opt_scheduler': 'none', 'opt_restart': 0, 'weight_decay': 5e-3, 'lr': 0.01},\n",
        "]:\n",
        "    args = objectview(args)\n",
        "    for model in ['GAT', 'GraphSage']:\n",
        "        args.model_type = model\n",
        "\n",
        "        # Match the dimension.\n",
        "        if model == 'GAT':\n",
        "          args.heads = 2\n",
        "        else:\n",
        "          args.heads = 1\n",
        "\n",
        "        if args.dataset == 'cora':\n",
        "            dataset = Planetoid(root='/tmp/cora', name='Cora')\n",
        "        else:\n",
        "            raise NotImplementedError(\"Unknown dataset\")\n",
        "        ############################################################################\n",
        "        # TODO: Your code here!\n",
        "        # Train the model and plot the training loss and test accuracy for both GAT and GraphSage\n",
        "        ############################################################################\n",
        "        loader = DataLoader(dataset, batch_size=args.batch_size, shuffle=False)\n",
        "        with open(\"CORA-{}.txt\".format(model), \"w\") as file:\n",
        "          train_loss, test_acc, best_acc = train(dataset, args)\n",
        "          # final_answer = test(loader, model)\n",
        "          print(f'model: {model}, Best answer: {best_acc}')\n",
        "          for i in range(len(test_acc)):\n",
        "            epoch = (i+1)*10\n",
        "            file.write(f'Epoch [{epoch}/{args.epochs}]: {test_acc[i]}')\n"
      ]
    },
    {
      "cell_type": "markdown",
      "metadata": {
        "id": "PlCtBEBLMBkR"
      },
      "source": [
        "## Question 1: What is the best accuracy obtained on test set for GAT? (10 points)\n",
        "\n",
        "\n",
        "Run the cells above and save your GAT model accuracy every ten epochs to the file *CORA-GAT.txt*."
      ]
    },
    {
      "cell_type": "markdown",
      "metadata": {
        "id": "sPymzwbM27Fv"
      },
      "source": [
        "## Question 2: What is the best accuracy obtained on test set for GraphSage? (10 points)\n",
        "\n",
        "\n",
        "Run the cells above and save your GraphSage model accuracy every ten epochs to the file *CORA-GraphSage.txt*."
      ]
    },
    {
      "cell_type": "markdown",
      "metadata": {
        "id": "H_Oenew23GXU"
      },
      "source": [
        "## Question 3: Increase the number of GNN layers and observe how the performance changes. Write down you observation and analysis. (10 points)\n"
      ]
    },
    {
      "cell_type": "code",
      "source": [
        "import matplotlib.pyplot as plt\n",
        "\n",
        "# Data for the graph\n",
        "layers = [1, 2, 3, 4, 5, 6, 7]\n",
        "gat_accuracy = [0.777, 0.793, 0.795, 0.76, 0.732, 0.319, 0.319]\n",
        "graphsage_accuracy = [0.718, 0.796, 0.795, 0.393, 0.386, 0.319, 0.319]\n",
        "\n",
        "# Creating the plot\n",
        "plt.figure(figsize=(10, 6))\n",
        "plt.plot(layers, gat_accuracy, label='GAT', marker='o')\n",
        "plt.plot(layers, graphsage_accuracy, label='GraphSage', marker='o')\n",
        "\n",
        "# Adding titles and labels\n",
        "plt.title('GNN Model Performance by Number of Layers')\n",
        "plt.xlabel('Number of Layers')\n",
        "plt.ylabel('Accuracy')\n",
        "plt.xticks(layers)\n",
        "plt.legend()\n",
        "\n",
        "# Display the graph\n",
        "plt.grid(True)\n",
        "plt.show()"
      ],
      "metadata": {
        "colab": {
          "base_uri": "https://localhost:8080/",
          "height": 564
        },
        "id": "9qCIta_fqcoN",
        "outputId": "9f5aebaf-c8ac-4ea7-f688-5863a271dc6e"
      },
      "execution_count": 17,
      "outputs": [
        {
          "output_type": "display_data",
          "data": {
            "text/plain": [
              "<Figure size 1000x600 with 1 Axes>"
            ],
            "image/png": "[encoded data removed]"
          },
          "metadata": {}
        }
      ]
    },
    {
      "cell_type": "markdown",
      "metadata": {
        "id": "YHeT5g7B6PWx"
      },
      "source": [
        "## Question 4: Change the number of attention heads and observe how the performance changes. Write down you observation and analysis. (10 points)\n"
      ]
    },
    {
      "cell_type": "code",
      "source": [
        "\n",
        "# Data for the graph\n",
        "heads = [1, 2, 3, 4, 5, 6, 7]\n",
        "gat_accuracy_heads = [0.779, 0.792, 0.794, 0.804, 0.796, 0.802, 0.801]\n",
        "graphsage_accuracy_heads = [0.794, 0.798, 0.786, 0.798, 0.8, 0.797, 0.789]\n",
        "\n",
        "# Creating the plot\n",
        "plt.figure(figsize=(10, 6))\n",
        "plt.plot(heads, gat_accuracy_heads, label='GAT', marker='o')\n",
        "plt.plot(heads, graphsage_accuracy_heads, label='GraphSage', marker='o')\n",
        "\n",
        "# Adding titles and labels\n",
        "plt.title('GNN Model Performance by Number of Attention Heads')\n",
        "plt.xlabel('Number of Attention Heads')\n",
        "plt.ylabel('Accuracy')\n",
        "plt.xticks(heads)\n",
        "plt.legend()\n",
        "\n",
        "# Display the graph\n",
        "plt.grid(True)\n",
        "plt.show()"
      ],
      "metadata": {
        "colab": {
          "base_uri": "https://localhost:8080/",
          "height": 564
        },
        "id": "poqICGKJrRPE",
        "outputId": "845f9b35-daee-4dcf-d9fe-55bc00a6b030"
      },
      "execution_count": 26,
      "outputs": [
        {
          "output_type": "display_data",
          "data": {
            "text/plain": [
              "<Figure size 1000x600 with 1 Axes>"
            ],
            "image/png": "[encoded data removed]"
          },
          "metadata": {}
        }
      ]
    }
  ],
  "metadata": {
    "colab": {
      "provenance": [],
      "machine_shape": "hm",
      "gpuType": "A100"
    },
    "kernelspec": {
      "display_name": "Python 3",
      "name": "python3"
    },
    "language_info": {
      "codemirror_mode": {
        "name": "ipython",
        "version": 3
      },
      "file_extension": ".py",
      "mimetype": "text/x-python",
      "name": "python",
      "nbconvert_exporter": "python",
      "pygments_lexer": "ipython3",
      "version": "3.9.12"
    },
    "accelerator": "GPU"
  },
  "nbformat": 4,
  "nbformat_minor": 0
}